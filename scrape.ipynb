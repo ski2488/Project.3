{
 "cells": [
  {
   "cell_type": "code",
   "execution_count": 1,
   "metadata": {},
   "outputs": [],
   "source": [
    "## Load packages\n",
    "from splinter import Browser\n",
    "from bs4 import BeautifulSoup as soup\n",
    "import pandas as pd\n",
    "import numpy as np\n",
    "import matplotlib.pyplot as plt\n",
    "from scipy.stats import linregress\n",
    "from datetime import datetime"
   ]
  },
  {
   "cell_type": "code",
   "execution_count": 74,
   "metadata": {},
   "outputs": [],
   "source": [
    "## Open Browser\n",
    "browser = Browser('chrome')"
   ]
  },
  {
   "cell_type": "code",
   "execution_count": 75,
   "metadata": {},
   "outputs": [],
   "source": [
    "## Set up link within browser\n",
    "url = 'https://realestate.usnews.com/places/rankings/best-places-to-live'\n",
    "browser.visit(url)\n",
    "html = browser.html\n",
    "rank = soup(html, 'html.parser')"
   ]
  },
  {
   "cell_type": "code",
   "execution_count": 71,
   "metadata": {},
   "outputs": [
    {
     "ename": "ElementDoesNotExist",
     "evalue": "no elements could be found with link by partial text \"Load More\"",
     "output_type": "error",
     "traceback": [
      "\u001b[1;31m---------------------------------------------------------------------------\u001b[0m",
      "\u001b[1;31mIndexError\u001b[0m                                Traceback (most recent call last)",
      "\u001b[1;32mc:\\Users\\raminskim\\Anaconda3\\envs\\PythonData2\\lib\\site-packages\\splinter\\element_list.py\u001b[0m in \u001b[0;36m__getitem__\u001b[1;34m(self, index)\u001b[0m\n\u001b[0;32m     39\u001b[0m         \u001b[1;32mtry\u001b[0m\u001b[1;33m:\u001b[0m\u001b[1;33m\u001b[0m\u001b[1;33m\u001b[0m\u001b[0m\n\u001b[1;32m---> 40\u001b[1;33m             \u001b[1;32mreturn\u001b[0m \u001b[0mself\u001b[0m\u001b[1;33m.\u001b[0m\u001b[0m_container\u001b[0m\u001b[1;33m[\u001b[0m\u001b[0mindex\u001b[0m\u001b[1;33m]\u001b[0m\u001b[1;33m\u001b[0m\u001b[1;33m\u001b[0m\u001b[0m\n\u001b[0m\u001b[0;32m     41\u001b[0m         \u001b[1;32mexcept\u001b[0m \u001b[0mIndexError\u001b[0m\u001b[1;33m:\u001b[0m\u001b[1;33m\u001b[0m\u001b[1;33m\u001b[0m\u001b[0m\n",
      "\u001b[1;31mIndexError\u001b[0m: list index out of range",
      "\nDuring handling of the above exception, another exception occurred:\n",
      "\u001b[1;31mElementDoesNotExist\u001b[0m                       Traceback (most recent call last)",
      "\u001b[1;32m~\\AppData\\Local\\Temp\\ipykernel_4416\\446768650.py\u001b[0m in \u001b[0;36m<module>\u001b[1;34m\u001b[0m\n\u001b[0;32m      1\u001b[0m \u001b[1;31m# Automate clicking the Next button\u001b[0m\u001b[1;33m\u001b[0m\u001b[1;33m\u001b[0m\u001b[1;33m\u001b[0m\u001b[0m\n\u001b[1;32m----> 2\u001b[1;33m \u001b[0mbrowser\u001b[0m\u001b[1;33m.\u001b[0m\u001b[0mlinks\u001b[0m\u001b[1;33m.\u001b[0m\u001b[0mfind_by_partial_text\u001b[0m\u001b[1;33m(\u001b[0m\u001b[1;34m'Load More'\u001b[0m\u001b[1;33m)\u001b[0m\u001b[1;33m.\u001b[0m\u001b[0mclick\u001b[0m\u001b[1;33m(\u001b[0m\u001b[1;33m)\u001b[0m\u001b[1;33m\u001b[0m\u001b[1;33m\u001b[0m\u001b[0m\n\u001b[0m",
      "\u001b[1;32mc:\\Users\\raminskim\\Anaconda3\\envs\\PythonData2\\lib\\site-packages\\splinter\\element_list.py\u001b[0m in \u001b[0;36m__getattr__\u001b[1;34m(self, name)\u001b[0m\n\u001b[0;32m     76\u001b[0m     \u001b[1;32mdef\u001b[0m \u001b[0m__getattr__\u001b[0m\u001b[1;33m(\u001b[0m\u001b[0mself\u001b[0m\u001b[1;33m,\u001b[0m \u001b[0mname\u001b[0m\u001b[1;33m)\u001b[0m\u001b[1;33m:\u001b[0m\u001b[1;33m\u001b[0m\u001b[1;33m\u001b[0m\u001b[0m\n\u001b[0;32m     77\u001b[0m         \u001b[1;32mtry\u001b[0m\u001b[1;33m:\u001b[0m\u001b[1;33m\u001b[0m\u001b[1;33m\u001b[0m\u001b[0m\n\u001b[1;32m---> 78\u001b[1;33m             \u001b[1;32mreturn\u001b[0m \u001b[0mgetattr\u001b[0m\u001b[1;33m(\u001b[0m\u001b[0mself\u001b[0m\u001b[1;33m.\u001b[0m\u001b[0mfirst\u001b[0m\u001b[1;33m,\u001b[0m \u001b[0mname\u001b[0m\u001b[1;33m)\u001b[0m\u001b[1;33m\u001b[0m\u001b[1;33m\u001b[0m\u001b[0m\n\u001b[0m\u001b[0;32m     79\u001b[0m         \u001b[1;32mexcept\u001b[0m \u001b[0mAttributeError\u001b[0m\u001b[1;33m:\u001b[0m\u001b[1;33m\u001b[0m\u001b[1;33m\u001b[0m\u001b[0m\n\u001b[0;32m     80\u001b[0m             \u001b[1;32mtry\u001b[0m\u001b[1;33m:\u001b[0m\u001b[1;33m\u001b[0m\u001b[1;33m\u001b[0m\u001b[0m\n",
      "\u001b[1;32mc:\\Users\\raminskim\\Anaconda3\\envs\\PythonData2\\lib\\site-packages\\splinter\\element_list.py\u001b[0m in \u001b[0;36mfirst\u001b[1;34m(self)\u001b[0m\n\u001b[0;32m     54\u001b[0m             \u001b[1;33m>>\u001b[0m\u001b[1;33m>\u001b[0m \u001b[1;32massert\u001b[0m \u001b[0melement_list\u001b[0m\u001b[1;33m[\u001b[0m\u001b[1;36m0\u001b[0m\u001b[1;33m]\u001b[0m \u001b[1;33m==\u001b[0m \u001b[0melement_list\u001b[0m\u001b[1;33m.\u001b[0m\u001b[0mfirst\u001b[0m\u001b[1;33m\u001b[0m\u001b[1;33m\u001b[0m\u001b[0m\n\u001b[0;32m     55\u001b[0m         \"\"\"\n\u001b[1;32m---> 56\u001b[1;33m         \u001b[1;32mreturn\u001b[0m \u001b[0mself\u001b[0m\u001b[1;33m[\u001b[0m\u001b[1;36m0\u001b[0m\u001b[1;33m]\u001b[0m\u001b[1;33m\u001b[0m\u001b[1;33m\u001b[0m\u001b[0m\n\u001b[0m\u001b[0;32m     57\u001b[0m \u001b[1;33m\u001b[0m\u001b[0m\n\u001b[0;32m     58\u001b[0m     \u001b[1;33m@\u001b[0m\u001b[0mproperty\u001b[0m\u001b[1;33m\u001b[0m\u001b[1;33m\u001b[0m\u001b[0m\n",
      "\u001b[1;32mc:\\Users\\raminskim\\Anaconda3\\envs\\PythonData2\\lib\\site-packages\\splinter\\element_list.py\u001b[0m in \u001b[0;36m__getitem__\u001b[1;34m(self, index)\u001b[0m\n\u001b[0;32m     42\u001b[0m             raise ElementDoesNotExist(\n\u001b[0;32m     43\u001b[0m                 u'no elements could be found with {0} \"{1}\"'.format(\n\u001b[1;32m---> 44\u001b[1;33m                     \u001b[0mself\u001b[0m\u001b[1;33m.\u001b[0m\u001b[0mfind_by\u001b[0m\u001b[1;33m,\u001b[0m \u001b[0mself\u001b[0m\u001b[1;33m.\u001b[0m\u001b[0mquery\u001b[0m\u001b[1;33m\u001b[0m\u001b[1;33m\u001b[0m\u001b[0m\n\u001b[0m\u001b[0;32m     45\u001b[0m                 )\n\u001b[0;32m     46\u001b[0m             )\n",
      "\u001b[1;31mElementDoesNotExist\u001b[0m: no elements could be found with link by partial text \"Load More\""
     ]
    }
   ],
   "source": [
    "# Automate clicking out of ad\n",
    "browser.links.find_by_partial_text(\"No thanks\").click()\n",
    "# Automate clicking the Load More button\n",
    "browser.links.find_by_partial_text('Load More').click()"
   ]
  },
  {
   "cell_type": "code",
   "execution_count": 36,
   "metadata": {},
   "outputs": [
    {
     "data": {
      "text/plain": [
       "<li class=\"item-list__ListItemStyled-sc-18yjqdy-1 boZDDO\" style=\"animation-delay:0ms\"><div class=\"DetailCardPlaces__Layout-sc-63p1rw-0 hNOvQf\"><a class=\"card-anchor\" id=\"\"></a><a class=\"card-image-container\" href=\"/places/alabama/huntsville/photos\"><img alt=\"Huntsville, AL\" src=\"https://www.usnews.com/cmsmedia/85/49fdc12ba27e2821f3bafa3ad09d0e/Alabama_Huntsville_superhero_image.jpg\"/><div class=\"card-image-caption\">View All 29 Photos </div></a><div class=\"card-content-container\"><div class=\"card-body-container\"><div><h1 class=\"Heading-sc-1w5xk2o-0 detail-card-best-place__CardHeading-sc-1uzfiar-0 kSaPXj cDmVBK\" id=\"Huntsville, AL\"><a href=\"/places/alabama/huntsville\">Huntsville, AL</a></h1><p class=\"Paragraph-sc-1iyax29-0 gbfwFt\"><span class=\"Span-sc-19wk4id-0 badge-span__BadgeSpan-sc-1kitz6r-0 lCyXL tlyTL\" size=\"4\"><strong>#<span data-test-id=\"Huntsville, AL rank\">1</span> <!-- -->in Best Places to Live</strong></span></p></div><div class=\"Hide-kg09cx-0 hWOBmI\">Once a sleepy farming town, Huntsville gained national recognition during the Space Race of the 1960s and is now... <a class=\"Anchor-byh49a-0 gEQmsG\" href=\"/places/alabama/huntsville\">Read More</a></div></div><div class=\"card-details-container\"><div class=\"Hide-kg09cx-0 hBzpiJ\"><div class=\"Box-w0dun1-0 QuickStatHug__Container-hb1bl8-0 dWWnRo fkvuin QuickStatHug-hb1bl8-2 fyaies QuickStatHug-hb1bl8-2 fyaies\"><dl><div><dt class=\"label-wrapper\">Overall Score</dt><dd class=\"QuickStatHug__Description-hb1bl8-1 bnQTJo\"><span data-test-id=\"Huntsville, AL overal_score\">7.0</span></dd><dt class=\"short-label-wrapper\">Overall Score</dt></div></dl></div><div class=\"Box-w0dun1-0 QuickStatHug__Container-hb1bl8-0 dWWnRo fkvuin QuickStatHug-hb1bl8-2 fyaies QuickStatHug-hb1bl8-2 fyaies\"><dl><div><dt class=\"label-wrapper\">Quality of Life</dt><dd class=\"QuickStatHug__Description-hb1bl8-1 bnQTJo\"><span data-test-id=\"Huntsville, AL quality_of_life_index\">6.8</span></dd><dt class=\"short-label-wrapper\">Quality of Life</dt></div></dl></div><div class=\"Box-w0dun1-0 QuickStatHug__Container-hb1bl8-0 dWWnRo fkvuin QuickStatHug-hb1bl8-2 fyaies QuickStatHug-hb1bl8-2 fyaies\"><dl><div><dt class=\"label-wrapper\">Value</dt><dd class=\"QuickStatHug__Description-hb1bl8-1 bnQTJo\"><span data-test-id=\"Huntsville, AL value_index\">8.5</span></dd><dt class=\"short-label-wrapper\">Value</dt></div></dl></div></div><dl class=\"QuickStats-sc-6jc7cd-0 gnfvQX Hide-kg09cx-0 hWOBmI\"><dt>Overall Score</dt><dd><span data-test-id=\"Huntsville, AL overal_score\">7.0</span></dd><dt>Quality of Life</dt><dd><span data-test-id=\"Huntsville, AL quality_of_life_index\">6.8</span></dd><dt>Value</dt><dd><span data-test-id=\"Huntsville, AL value_index\">8.5</span></dd></dl></div></div></div></li>"
      ]
     },
     "execution_count": 36,
     "metadata": {},
     "output_type": "execute_result"
    }
   ],
   "source": [
    "# Scrape Table\n",
    "ranks = rank.find('ol', class_ = 'item-list__OrderedListStyled-sc-18yjqdy-0 kFQUBh')\\\n",
    "            .find_all('li', class_ = 'item-list__ListItemStyled-sc-18yjqdy-1 boZDDO')\n",
    "ranks[0]"
   ]
  },
  {
   "cell_type": "code",
   "execution_count": 68,
   "metadata": {},
   "outputs": [
    {
     "data": {
      "text/html": [
       "<div>\n",
       "<style scoped>\n",
       "    .dataframe tbody tr th:only-of-type {\n",
       "        vertical-align: middle;\n",
       "    }\n",
       "\n",
       "    .dataframe tbody tr th {\n",
       "        vertical-align: top;\n",
       "    }\n",
       "\n",
       "    .dataframe thead th {\n",
       "        text-align: right;\n",
       "    }\n",
       "</style>\n",
       "<table border=\"1\" class=\"dataframe\">\n",
       "  <thead>\n",
       "    <tr style=\"text-align: right;\">\n",
       "      <th></th>\n",
       "      <th>0</th>\n",
       "      <th>1</th>\n",
       "      <th>2</th>\n",
       "      <th>3</th>\n",
       "    </tr>\n",
       "  </thead>\n",
       "  <tbody>\n",
       "    <tr>\n",
       "      <th>0</th>\n",
       "      <td>Huntsville, AL</td>\n",
       "      <td>7.0</td>\n",
       "      <td>6.8</td>\n",
       "      <td>8.5</td>\n",
       "    </tr>\n",
       "    <tr>\n",
       "      <th>1</th>\n",
       "      <td>Colorado Springs, CO</td>\n",
       "      <td>6.8</td>\n",
       "      <td>6.4</td>\n",
       "      <td>5.7</td>\n",
       "    </tr>\n",
       "    <tr>\n",
       "      <th>2</th>\n",
       "      <td>Green Bay, WI</td>\n",
       "      <td>6.8</td>\n",
       "      <td>7.1</td>\n",
       "      <td>8.5</td>\n",
       "    </tr>\n",
       "    <tr>\n",
       "      <th>3</th>\n",
       "      <td>-</td>\n",
       "      <td>-</td>\n",
       "      <td>-</td>\n",
       "      <td>-</td>\n",
       "    </tr>\n",
       "    <tr>\n",
       "      <th>4</th>\n",
       "      <td>Boulder, CO</td>\n",
       "      <td>6.8</td>\n",
       "      <td>7.7</td>\n",
       "      <td>5.1</td>\n",
       "    </tr>\n",
       "    <tr>\n",
       "      <th>5</th>\n",
       "      <td>San Jose, CA</td>\n",
       "      <td>6.7</td>\n",
       "      <td>7.6</td>\n",
       "      <td>5.5</td>\n",
       "    </tr>\n",
       "    <tr>\n",
       "      <th>6</th>\n",
       "      <td>Raleigh &amp; Durham, NC</td>\n",
       "      <td>6.7</td>\n",
       "      <td>6.8</td>\n",
       "      <td>7.1</td>\n",
       "    </tr>\n",
       "    <tr>\n",
       "      <th>7</th>\n",
       "      <td>-</td>\n",
       "      <td>-</td>\n",
       "      <td>-</td>\n",
       "      <td>-</td>\n",
       "    </tr>\n",
       "    <tr>\n",
       "      <th>8</th>\n",
       "      <td>Fayetteville, AR</td>\n",
       "      <td>6.7</td>\n",
       "      <td>6.8</td>\n",
       "      <td>8.3</td>\n",
       "    </tr>\n",
       "    <tr>\n",
       "      <th>9</th>\n",
       "      <td>Portland, ME</td>\n",
       "      <td>6.7</td>\n",
       "      <td>7.2</td>\n",
       "      <td>6.6</td>\n",
       "    </tr>\n",
       "    <tr>\n",
       "      <th>10</th>\n",
       "      <td>Sarasota, FL</td>\n",
       "      <td>6.7</td>\n",
       "      <td>7.0</td>\n",
       "      <td>6.2</td>\n",
       "    </tr>\n",
       "    <tr>\n",
       "      <th>11</th>\n",
       "      <td>-</td>\n",
       "      <td>-</td>\n",
       "      <td>-</td>\n",
       "      <td>-</td>\n",
       "    </tr>\n",
       "    <tr>\n",
       "      <th>12</th>\n",
       "      <td>San Francisco, CA</td>\n",
       "      <td>6.7</td>\n",
       "      <td>6.8</td>\n",
       "      <td>5.1</td>\n",
       "    </tr>\n",
       "  </tbody>\n",
       "</table>\n",
       "</div>"
      ],
      "text/plain": [
       "                       0    1    2    3\n",
       "0         Huntsville, AL  7.0  6.8  8.5\n",
       "1   Colorado Springs, CO  6.8  6.4  5.7\n",
       "2          Green Bay, WI  6.8  7.1  8.5\n",
       "3                      -    -    -    -\n",
       "4            Boulder, CO  6.8  7.7  5.1\n",
       "5           San Jose, CA  6.7  7.6  5.5\n",
       "6   Raleigh & Durham, NC  6.7  6.8  7.1\n",
       "7                      -    -    -    -\n",
       "8       Fayetteville, AR  6.7  6.8  8.3\n",
       "9           Portland, ME  6.7  7.2  6.6\n",
       "10          Sarasota, FL  6.7  7.0  6.2\n",
       "11                     -    -    -    -\n",
       "12     San Francisco, CA  6.7  6.8  5.1"
      ]
     },
     "execution_count": 68,
     "metadata": {},
     "output_type": "execute_result"
    }
   ],
   "source": [
    "# Extract text.\n",
    "rank_list = []\n",
    "for i in ranks:\n",
    "    try:\n",
    "        name = i.find(\"h1\", class_ = \"Heading-sc-1w5xk2o-0 detail-card-best-place__CardHeading-sc-1uzfiar-0 kSaPXj cDmVBK\").find(\"a\").text\n",
    "        scores = i.find(\"dl\", class_ = \"QuickStats-sc-6jc7cd-0 gnfvQX Hide-kg09cx-0 hWOBmI\").text.replace('Overall Score', '').replace('Quality of Life', 'x').replace('Value', 'x').split('x')\n",
    "        #quality = i.find(\"span\", id_ = 'quality_of_life_index').text\n",
    "        #value = i.find(\"span\", id_ = 'value_index').text\n",
    "        rank_list.append([name, scores[0], scores[1], scores[2]])\n",
    "    except: rank_list.append(\"----\")\n",
    "\n",
    "rank_list\n",
    "\n",
    "# Convert to pd df\n",
    "rank_df = pd.DataFrame(rank_list)\n",
    "\n",
    "# Display\n",
    "rank_df"
   ]
  }
 ],
 "metadata": {
  "kernelspec": {
   "display_name": "PythonData2",
   "language": "python",
   "name": "python3"
  },
  "language_info": {
   "codemirror_mode": {
    "name": "ipython",
    "version": 3
   },
   "file_extension": ".py",
   "mimetype": "text/x-python",
   "name": "python",
   "nbconvert_exporter": "python",
   "pygments_lexer": "ipython3",
   "version": "3.7.15"
  },
  "orig_nbformat": 4,
  "vscode": {
   "interpreter": {
    "hash": "6bf4a4e7f6e2b74fd74c37a981ed6c6d83ce25f20bb6a721d0924f01fdba488e"
   }
  }
 },
 "nbformat": 4,
 "nbformat_minor": 2
}
